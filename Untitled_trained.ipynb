{
 "cells": [
  {
   "cell_type": "markdown",
   "id": "8bfd8e98",
   "metadata": {},
   "source": [
    "## Install Dependencies"
   ]
  },
  {
   "cell_type": "code",
   "execution_count": null,
   "id": "0a58237b",
   "metadata": {},
   "outputs": [],
   "source": [
    "!pip install tensorflow matplotlib"
   ]
  },
  {
   "cell_type": "markdown",
   "id": "bec992d4",
   "metadata": {},
   "source": [
    "## Import Dependencies"
   ]
  },
  {
   "cell_type": "code",
   "execution_count": 1,
   "id": "cd17d3c9",
   "metadata": {},
   "outputs": [],
   "source": [
    "import shutil\n",
    "import os\n",
    "import sys\n",
    "import random\n",
    "from random import shuffle\n",
    "import tensorflow as tf\n",
    "from tensorflow import keras\n",
    "import numpy as np\n",
    "from matplotlib import pyplot as plt\n",
    "import pandas as pd"
   ]
  },
  {
   "cell_type": "code",
   "execution_count": 2,
   "id": "1719f830",
   "metadata": {},
   "outputs": [],
   "source": [
    "# Import tensorflow dependencies - Functional API\n",
    "from tensorflow.keras.models import Model, Sequential\n",
    "from tensorflow.keras.metrics import Precision, Recall\n",
    "from tensorflow.keras.applications import Xception\n",
    "from tensorflow.keras.layers import Layer, Conv2D, Dense, MaxPooling2D, Input, Flatten, Dropout, BatchNormalization,Lambda          "
   ]
  },
  {
   "cell_type": "markdown",
   "id": "ba261ae9",
   "metadata": {},
   "source": [
    "### Making Folder Structure"
   ]
  },
  {
   "cell_type": "code",
   "execution_count": 3,
   "id": "d1253bcd",
   "metadata": {},
   "outputs": [],
   "source": [
    "DATA_PATH = 'D:\\SimpleNN\\Data\\part2'\n",
    "TRAIN_PATH = os.path.join(DATA_PATH,'train')\n",
    "CV_PATH = os.path.join(DATA_PATH,'cv')\n",
    "TEST_PATH = os.path.join(DATA_PATH,'test')\n",
    "MAPPED_DATA_PATH = os.path.join(DATA_PATH,'_map')\n",
    "SET_PATHES = [TRAIN_PATH,CV_PATH,TEST_PATH]"
   ]
  },
  {
   "cell_type": "code",
   "execution_count": null,
   "id": "68fd1b5b",
   "metadata": {},
   "outputs": [],
   "source": [
    "for path in SET_PATHES:\n",
    "    os.makedirs(path)\n",
    "os.makedirs(MAPPED_DATA_PATH)"
   ]
  },
  {
   "cell_type": "code",
   "execution_count": null,
   "id": "5faf1eef",
   "metadata": {},
   "outputs": [],
   "source": [
    "def copy(src_path,dst_path):\n",
    "    try:\n",
    "        shutil.copy(src_path, dst_path)\n",
    "        print(\"copied sucessful to: \",dst_path)\n",
    "    except IOError as e:\n",
    "        print('Unable to copy file {} to {}'\n",
    "              .format(src_path, dst_path))\n",
    "    except:\n",
    "        print('When try copy file {} to {}, unexpected error: {}'\n",
    "              .format(src_path, dst_path, sys.exc_info()))"
   ]
  },
  {
   "cell_type": "code",
   "execution_count": null,
   "id": "6d625f0a",
   "metadata": {},
   "outputs": [],
   "source": [
    "MAP_PATH = os.path.join(DATA_PATH,'CelebA.csv')\n",
    "labels = pd.read_csv(MAP_PATH,delimiter='\\s+')\n",
    "print(labels)\n",
    "\n",
    "TRAIN_DIR = os.path.join(DATA_PATH,'_orig')\n",
    "DR = os.path.join(DATA_PATH,MAPPED_DATA_PATH)\n",
    "\n",
    "for filename, class_name in labels.values:\n",
    "    # Create subdirectory with `class_name`\n",
    "    if not os.path.exists(os.path.join(DR,str(class_name))):\n",
    "        os.mkdir(os.path.join(DR,str(class_name)))\n",
    "    src_path = os.path.join(TRAIN_DIR,filename)\n",
    "    dst_path = os.path.join(DR,str(class_name),filename)\n",
    "    copy(src_path,dst_path)"
   ]
  },
  {
   "cell_type": "markdown",
   "id": "5b4e1322",
   "metadata": {},
   "source": [
    "## Creating datasets in folders"
   ]
  },
  {
   "cell_type": "code",
   "execution_count": null,
   "id": "2147bdc5",
   "metadata": {},
   "outputs": [],
   "source": [
    "for folder in os.listdir(MAPPED_DATA_PATH):\n",
    "    inner_folder = os.path.join(MAPPED_DATA_PATH,folder)\n",
    "    file_pathes = []\n",
    "    for file in os.listdir(inner_folder):\n",
    "        file_path = os.path.join(inner_folder,file)\n",
    "        file_pathes.append(file_path)\n",
    "    if len(file_pathes)<6:\n",
    "        continue\n",
    "    cv_file_pathes = file_pathes[0:2]\n",
    "    test_file_pathes = file_pathes[2:4]\n",
    "    train_file_pathes = file_pathes[4:]\n",
    "    set_file_pathes = [train_file_pathes,cv_file_pathes,test_file_pathes]\n",
    "    \n",
    "    for set_path in SET_PATHES:\n",
    "        if not os.path.exists(os.path.join(set_path,folder)):\n",
    "            os.mkdir(os.path.join(set_path,folder))\n",
    "    \n",
    "    for i in range(3):\n",
    "        for file in set_file_pathes[i]:\n",
    "            src_path = file\n",
    "            dst_path = os.path.join(SET_PATHES[i],folder)\n",
    "            copy(src_path,dst_path)"
   ]
  },
  {
   "cell_type": "markdown",
   "id": "79397a15",
   "metadata": {},
   "source": [
    "## Creating datasets in code"
   ]
  },
  {
   "cell_type": "code",
   "execution_count": 4,
   "id": "8b7a7c85",
   "metadata": {},
   "outputs": [],
   "source": [
    "def get_pos_anc_neg_sets(set_path):\n",
    "    pos_dic = {}\n",
    "    anc_dic = {}\n",
    "    neg_dic= {}\n",
    "    class_names=[]\n",
    "    class_pos_quant={}\n",
    "    for folder in os.listdir(set_path):\n",
    "        #print(folder)\n",
    "        class_names.append(folder)\n",
    "        files_in_folder = []\n",
    "        for file in os.listdir(os.path.join(set_path,folder)):\n",
    "            files_in_folder.append(os.path.join(set_path,folder,file))\n",
    "        pos_dic[folder] = files_in_folder\n",
    "        class_pos_quant[folder] = len(files_in_folder)\n",
    "                               \n",
    "    for class_name in class_names:\n",
    "        picture_pathes = pos_dic[class_name]\n",
    "        anc_list =[]\n",
    "        anc_list.append(picture_pathes.pop())\n",
    "        anc_dic[class_name]=anc_list\n",
    "        \n",
    "        neg_samples = []\n",
    "        while len(neg_samples)!= class_pos_quant[class_name]:\n",
    "            random_class = random.choice(class_names)\n",
    "            if random_class == class_name:\n",
    "                continue\n",
    "            random_sample = random.choice(pos_dic[random_class])\n",
    "            neg_samples.append(random_sample)\n",
    "        \n",
    "        neg_dic[class_name] = neg_samples\n",
    "        #print('class: ',class_name,'neg_samples: ',neg_samples)\n",
    "        \n",
    "    return pos_dic, anc_dic,neg_dic"
   ]
  },
  {
   "cell_type": "code",
   "execution_count": 5,
   "id": "0ea8ae42",
   "metadata": {},
   "outputs": [],
   "source": [
    "train_pos,train_anc,train_neg = get_pos_anc_neg_sets(SET_PATHES[0])\n",
    "cv_pos,cv_anc,cv_neg = get_pos_anc_neg_sets(SET_PATHES[1])\n",
    "test_pos,test_anc,test_neg = get_pos_anc_neg_sets(SET_PATHES[2])"
   ]
  },
  {
   "cell_type": "markdown",
   "id": "1db9029c",
   "metadata": {},
   "source": [
    "## Preprocessing Images"
   ]
  },
  {
   "cell_type": "code",
   "execution_count": 6,
   "id": "c5b67ef0",
   "metadata": {},
   "outputs": [],
   "source": [
    "def preprocess_img(file_path):\n",
    "    byte_img = tf.io.read_file(file_path)\n",
    "    img = tf.io.decode_jpeg(byte_img)\n",
    "    img = tf.image.resize(img,(128,128))\n",
    "    img = img/255.0\n",
    "    return img\n",
    "\n",
    "def preprocess_package(anc_img_path,pos_img_path,neg_img_path):\n",
    "    return preprocess_img(anc_img_path),preprocess_img(pos_img_path),preprocess_img(neg_img_path)\n",
    "def preprocess_emp(anc_img_path,pos_img_path):\n",
    "    return preprocess_img(anc_img_path),preprocess_img(pos_img_path)\n"
   ]
  },
  {
   "cell_type": "code",
   "execution_count": 7,
   "id": "64a9fec2",
   "metadata": {},
   "outputs": [
    {
     "data": {
      "text/plain": [
       "<matplotlib.image.AxesImage at 0x2bd4c90a8b0>"
      ]
     },
     "execution_count": 7,
     "metadata": {},
     "output_type": "execute_result"
    },
    {
     "data": {
      "image/png": "[encoded data removed]",
      "text/plain": [
       "<Figure size 640x480 with 1 Axes>"
      ]
     },
     "metadata": {},
     "output_type": "display_data"
    }
   ],
   "source": [
    "path_to_img = 'D:\\\\SimpleNN\\\\Data\\\\part2\\\\train\\\\5\\\\066343.jpg'\n",
    "img = preprocess_img(path_to_img)\n",
    "plt.imshow(img)\n",
    "#dataset.map(preprocess)"
   ]
  },
  {
   "cell_type": "markdown",
   "id": "0946909e",
   "metadata": {},
   "source": [
    "## Creating Triplets"
   ]
  },
  {
   "cell_type": "code",
   "execution_count": 8,
   "id": "a5f2870d",
   "metadata": {},
   "outputs": [],
   "source": [
    "# train_pos,train_anc,train_neg\n",
    "# cv_pos,cv_anc,cv_neg\n",
    "# test_pos,test_anc,test_neg\n",
    "# ***.shape = (classes,samples)\n",
    "\n",
    "def triplet_data(pos,anc,neg):\n",
    "\n",
    "    list_of_batches = []\n",
    "    keys = list(pos.keys())\n",
    "    for key in keys:\n",
    "        pos_classified = tf.data.Dataset.from_tensor_slices(pos[key])\n",
    "        neg_classified = tf.data.Dataset.from_tensor_slices(neg[key])\n",
    "        anc_classified = tf.data.Dataset.from_tensor_slices(anc[key]*len(pos_classified))\n",
    "        \n",
    "        batch = tf.data.Dataset.zip((anc_classified,pos_classified, neg_classified))\n",
    "        list_of_batches.append(batch)\n",
    "        \n",
    "    shuffle(list_of_batches)\n",
    "    output_batches = tf.data.Dataset.from_tensor_slices(list_of_batches)\n",
    "    output_batches = output_batches.interleave(lambda x: x, cycle_length=1, num_parallel_calls=tf.data.AUTOTUNE)\n",
    "    return output_batches\n"
   ]
  },
  {
   "cell_type": "code",
   "execution_count": 9,
   "id": "22773d18",
   "metadata": {},
   "outputs": [
    {
     "name": "stdout",
     "output_type": "stream",
     "text": [
      "WARNING:tensorflow:From C:\\Users\\darko\\anaconda3\\lib\\site-packages\\tensorflow\\python\\autograph\\pyct\\static_analysis\\liveness.py:83: Analyzer.lamba_check (from tensorflow.python.autograph.pyct.static_analysis.liveness) is deprecated and will be removed after 2023-09-23.\n",
      "Instructions for updating:\n",
      "Lambda fuctions will be no more assumed to be used in the statement where they are used, or at least in the same block. https://github.com/tensorflow/tensorflow/issues/56089\n"
     ]
    }
   ],
   "source": [
    "train_data = triplet_data(train_pos,train_anc,train_neg)\n",
    "cv_data = triplet_data(cv_pos,cv_anc,cv_neg)\n",
    "test_data = triplet_data(test_pos,test_anc,test_neg)"
   ]
  },
  {
   "cell_type": "code",
   "execution_count": 10,
   "id": "fbb62134",
   "metadata": {},
   "outputs": [],
   "source": [
    "# len of sets\n",
    "# 153573\n",
    "# 9122\n",
    "# 9122\n",
    "\n",
    "train_data = train_data.apply(tf.data.experimental.assert_cardinality(153573))\n",
    "cv_data = cv_data.apply(tf.data.experimental.assert_cardinality(9122))\n",
    "test_data = test_data.apply(tf.data.experimental.assert_cardinality(9122))\n",
    "\n",
    "#train_length = len(train_data)\n",
    "#train_data = train_data.skip(round(train_length*0.3))\n",
    "#train_data = train_data.take(round(train_length*0.5))\n",
    "#cv_data = cv_data.take(round(len(cv_data)*1.0))\n",
    "#test_data = test_data.take(round(len(test_data)*1.0))"
   ]
  },
  {
   "cell_type": "markdown",
   "id": "631d99c1",
   "metadata": {},
   "source": [
    "## Save Train Data"
   ]
  },
  {
   "cell_type": "code",
   "execution_count": null,
   "id": "5fb15344",
   "metadata": {},
   "outputs": [],
   "source": [
    "def save_data(data,data_dir,parts):\n",
    "    data_length = len(data)\n",
    "\n",
    "    for i in range(parts):\n",
    "        data_piece = data.take(round(data_length*(1/parts)))\n",
    "        data = data.skip(round(data_length*(1/parts)))\n",
    "        data_piece.save(os.path.join(data_dir,'piece_'+str(i+1)))\n",
    "    return"
   ]
  },
  {
   "cell_type": "code",
   "execution_count": null,
   "id": "6e5925a3",
   "metadata": {},
   "outputs": [],
   "source": [
    "train_data_dir = 'D:\\\\SimpleNN\\\\Data\\\\part2\\\\saved_datasets'\n",
    "parts = 16\n",
    "#save_data(train_data,train_data_dir,parts)"
   ]
  },
  {
   "cell_type": "code",
   "execution_count": 11,
   "id": "239bb129",
   "metadata": {},
   "outputs": [],
   "source": [
    "load_data_dir = 'D:\\\\SimpleNN\\\\Data\\\\part2\\\\saved_datasets'\n",
    "load_path = os.path.join(load_data_dir,'piece_'+str(11))\n",
    "train_data = tf.data.Dataset.load(load_path)"
   ]
  },
  {
   "cell_type": "markdown",
   "id": "0daef262",
   "metadata": {},
   "source": [
    "## Transform Data"
   ]
  },
  {
   "cell_type": "code",
   "execution_count": 12,
   "id": "6497adeb",
   "metadata": {},
   "outputs": [],
   "source": [
    "# Build dataloader pipeline\n",
    "train_data = train_data.map(preprocess_package)\n",
    "cv_data = cv_data.map(preprocess_package)\n",
    "test_data = test_data.map(preprocess_package)\n",
    "\n",
    "train_data = train_data.cache()\n",
    "cv_data = cv_data.cache()\n",
    "test_data =test_data.cache()"
   ]
  },
  {
   "cell_type": "code",
   "execution_count": 13,
   "id": "0c0d1559",
   "metadata": {},
   "outputs": [],
   "source": [
    "BUFF_SIZE = 1024\n",
    "train_data = train_data.shuffle(buffer_size=BUFF_SIZE)\n",
    "cv_data = cv_data.shuffle(buffer_size=BUFF_SIZE)\n",
    "test_data = test_data.shuffle(buffer_size=BUFF_SIZE)"
   ]
  },
  {
   "cell_type": "code",
   "execution_count": 14,
   "id": "38314750",
   "metadata": {},
   "outputs": [
    {
     "data": {
      "text/plain": [
       "<ShuffleDataset element_spec=(TensorSpec(shape=(128, 128, None), dtype=tf.float32, name=None), TensorSpec(shape=(128, 128, None), dtype=tf.float32, name=None), TensorSpec(shape=(128, 128, None), dtype=tf.float32, name=None))>"
      ]
     },
     "execution_count": 14,
     "metadata": {},
     "output_type": "execute_result"
    }
   ],
   "source": [
    "train_data"
   ]
  },
  {
   "cell_type": "code",
   "execution_count": 15,
   "id": "aff7d294",
   "metadata": {},
   "outputs": [
    {
     "data": {
      "text/plain": [
       "<ShuffleDataset element_spec=(TensorSpec(shape=(128, 128, None), dtype=tf.float32, name=None), TensorSpec(shape=(128, 128, None), dtype=tf.float32, name=None), TensorSpec(shape=(128, 128, None), dtype=tf.float32, name=None))>"
      ]
     },
     "execution_count": 15,
     "metadata": {},
     "output_type": "execute_result"
    }
   ],
   "source": [
    "cv_data"
   ]
  },
  {
   "cell_type": "code",
   "execution_count": null,
   "id": "3dd6b2f8",
   "metadata": {},
   "outputs": [],
   "source": [
    "img = train_data.as_numpy_iterator().next()\n"
   ]
  },
  {
   "cell_type": "code",
   "execution_count": null,
   "id": "78e28230",
   "metadata": {},
   "outputs": [],
   "source": [
    "plt.imshow(img[0])"
   ]
  },
  {
   "cell_type": "code",
   "execution_count": null,
   "id": "83eda33f",
   "metadata": {},
   "outputs": [],
   "source": [
    "plt.imshow(img[1])"
   ]
  },
  {
   "cell_type": "code",
   "execution_count": null,
   "id": "383b28a6",
   "metadata": {},
   "outputs": [],
   "source": [
    "plt.imshow(img[2])"
   ]
  },
  {
   "cell_type": "code",
   "execution_count": 16,
   "id": "d1626c48",
   "metadata": {},
   "outputs": [],
   "source": [
    "BATCH_SIZE = 16\n",
    "PREFETCH_SIZE = 8\n",
    "train_data = train_data.batch(BATCH_SIZE)\n",
    "train_data = train_data.prefetch(PREFETCH_SIZE)\n",
    "\n",
    "cv_data = cv_data.batch(BATCH_SIZE)\n",
    "cv_data = cv_data.prefetch(PREFETCH_SIZE)\n",
    "\n",
    "test_data = test_data.batch(BATCH_SIZE)\n",
    "test_data = test_data.prefetch(PREFETCH_SIZE)"
   ]
  },
  {
   "cell_type": "code",
   "execution_count": 17,
   "id": "3ae8379f",
   "metadata": {},
   "outputs": [
    {
     "data": {
      "text/plain": [
       "<PrefetchDataset element_spec=(TensorSpec(shape=(None, 128, 128, None), dtype=tf.float32, name=None), TensorSpec(shape=(None, 128, 128, None), dtype=tf.float32, name=None), TensorSpec(shape=(None, 128, 128, None), dtype=tf.float32, name=None))>"
      ]
     },
     "execution_count": 17,
     "metadata": {},
     "output_type": "execute_result"
    }
   ],
   "source": [
    "train_data"
   ]
  },
  {
   "cell_type": "code",
   "execution_count": 18,
   "id": "c5586b28",
   "metadata": {},
   "outputs": [
    {
     "data": {
      "text/plain": [
       "<PrefetchDataset element_spec=(TensorSpec(shape=(None, 128, 128, None), dtype=tf.float32, name=None), TensorSpec(shape=(None, 128, 128, None), dtype=tf.float32, name=None), TensorSpec(shape=(None, 128, 128, None), dtype=tf.float32, name=None))>"
      ]
     },
     "execution_count": 18,
     "metadata": {},
     "output_type": "execute_result"
    }
   ],
   "source": [
    "cv_data"
   ]
  },
  {
   "cell_type": "markdown",
   "id": "97a9fac3",
   "metadata": {},
   "source": [
    "# Model Engineering"
   ]
  },
  {
   "cell_type": "markdown",
   "id": "103ce117",
   "metadata": {},
   "source": [
    "## Build Embadding layer"
   ]
  },
  {
   "cell_type": "code",
   "execution_count": 19,
   "id": "e871727f",
   "metadata": {},
   "outputs": [],
   "source": [
    "def get_embedding_model():\n",
    "    \n",
    "    pretrained_model = Xception(\n",
    "        input_shape=(128,128,3),\n",
    "        weights='imagenet',\n",
    "        include_top=False,\n",
    "        pooling='avg',\n",
    "    )\n",
    "    \n",
    "    for i in range(len(pretrained_model.layers)-27):\n",
    "        pretrained_model.layers[i].trainable = False\n",
    "        \n",
    "    embedding_model = Sequential([\n",
    "        pretrained_model,\n",
    "        Flatten(),\n",
    "        Dense(2048, activation='relu'),\n",
    "        BatchNormalization(),\n",
    "        Dense(2048, activation=\"relu\"),\n",
    "        Lambda(lambda x: tf.math.l2_normalize(x, axis=1))\n",
    "    ], name=\"embedding_model\")\n",
    "    \n",
    "    #in_layer = Input(shape = (105,105,3),name = 'input_image')\n",
    "    \n",
    "    #conv_1 = Conv2D(64,(10,10),activation='relu')(in_layer)\n",
    "    #max_pool_1 = MaxPooling2D(64,(2,2),padding='same')(conv_1)\n",
    "    #dropout_1 = Dropout(0.3)(max_pool_1)\n",
    "    \n",
    "    #conv_2 = Conv2D(128,(7,7),activation='relu')(dropout_1)\n",
    "    #max_pool_2 = MaxPooling2D(64,(2,2),padding='same')(conv_2)\n",
    "    #dropout_2 = Dropout(0.3)(max_pool_2)\n",
    "    \n",
    "    #conv_3 = Conv2D(128,(4,4),activation='relu')(dropout_2)\n",
    "    #max_pool_3 = MaxPooling2D(64,(2,2),padding='same')(conv_3)\n",
    "    #dropout_3 = Dropout(0.3)(max_pool_3)\n",
    "    \n",
    "    #conv_4 = Conv2D(256,(4,4),activation='relu')(dropout_3)\n",
    "    \n",
    "    #flatten_1 = Flatten()(conv_4)\n",
    "    #dense_1 = Dense(4096,activation='sigmoid')(flatten_1)\n",
    "    \n",
    "    #embedding_model = Model(inputs=[in_layer], outputs=[dense_1], name='embedding')\n",
    "    return embedding_model"
   ]
  },
  {
   "cell_type": "code",
   "execution_count": 20,
   "id": "ce73597c",
   "metadata": {},
   "outputs": [
    {
     "name": "stdout",
     "output_type": "stream",
     "text": [
      "Model: \"embedding_model\"\n",
      "_________________________________________________________________\n",
      " Layer (type)                Output Shape              Param #   \n",
      "=================================================================\n",
      " xception (Functional)       (None, 2048)              20861480  \n",
      "                                                                 \n",
      " flatten (Flatten)           (None, 2048)              0         \n",
      "                                                                 \n",
      " dense (Dense)               (None, 2048)              4196352   \n",
      "                                                                 \n",
      " batch_normalization_4 (Batc  (None, 2048)             8192      \n",
      " hNormalization)                                                 \n",
      "                                                                 \n",
      " dense_1 (Dense)             (None, 2048)              4196352   \n",
      "                                                                 \n",
      " lambda (Lambda)             (None, 2048)              0         \n",
      "                                                                 \n",
      "=================================================================\n",
      "Total params: 29,262,376\n",
      "Trainable params: 16,799,160\n",
      "Non-trainable params: 12,463,216\n",
      "_________________________________________________________________\n"
     ]
    }
   ],
   "source": [
    "embedding_model = get_embedding_model()\n",
    "embedding_model.summary()"
   ]
  },
  {
   "cell_type": "markdown",
   "id": "cf25fff4",
   "metadata": {},
   "source": [
    "## Build Siamese Model"
   ]
  },
  {
   "cell_type": "code",
   "execution_count": 21,
   "id": "20372192",
   "metadata": {},
   "outputs": [],
   "source": [
    "class DistanceLayer(Layer):\n",
    "\n",
    "    def __init__(self, **kwargs):\n",
    "        super().__init__(**kwargs)\n",
    "\n",
    "    def call(self, anc, pos, neg):\n",
    "        ap_dist = tf.reduce_sum(tf.square(tf.subtract(anc, pos)), -1)\n",
    "        an_dist = tf.reduce_sum(tf.square(tf.subtract(anc, neg)), -1)\n",
    "        return (ap_dist, an_dist)"
   ]
  },
  {
   "cell_type": "code",
   "execution_count": 22,
   "id": "2e10aee1",
   "metadata": {},
   "outputs": [],
   "source": [
    "def get_siamese_network():\n",
    "    \n",
    "    anchor_input = Input(name=\"anchor\", shape=(128,128,3))\n",
    "    positive_input = Input(name=\"positive\", shape=(128,128,3))\n",
    "    negative_input = Input(name=\"negative\", shape=(128,128,3))\n",
    "\n",
    "    distances = DistanceLayer()(\n",
    "        embedding_model(anchor_input),\n",
    "        embedding_model(positive_input),\n",
    "        embedding_model(negative_input),\n",
    "    )\n",
    "\n",
    "    siamese_network= Model(\n",
    "        inputs=[anchor_input, positive_input, negative_input], outputs=distances\n",
    "    )\n",
    "    return siamese_network\n"
   ]
  },
  {
   "cell_type": "code",
   "execution_count": 23,
   "id": "ef80665f",
   "metadata": {},
   "outputs": [],
   "source": [
    "siamese_network = get_siamese_network()"
   ]
  },
  {
   "cell_type": "code",
   "execution_count": 24,
   "id": "943aebda",
   "metadata": {},
   "outputs": [],
   "source": [
    "class SiameseModel(Model):\n",
    "\n",
    "    def __init__(self, siamese_network, margin=0.99):\n",
    "        super().__init__()\n",
    "        self.siamese_network = siamese_network\n",
    "        self.margin = margin\n",
    "        self.loss_tracker = keras.metrics.Mean(name=\"loss\")\n",
    "\n",
    "    def call(self, inputs):\n",
    "        anc = embedding_model(inputs[0])\n",
    "        pos = embedding_model(inputs[1])\n",
    "        distance = tf.reduce_sum(tf.square(tf.subtract(anc, pos)), -1)\n",
    "        return distance\n",
    "\n",
    "    def train_step(self, batch):\n",
    "        with tf.GradientTape() as tape:\n",
    "            loss = self._compute_loss(batch)\n",
    "\n",
    "        gradients = tape.gradient(loss, self.siamese_network.trainable_weights)\n",
    "        self.optimizer.apply_gradients(zip(gradients, self.siamese_network.trainable_weights))\n",
    "        self.loss_tracker.update_state(loss)\n",
    "        return {\"loss\": self.loss_tracker.result()}\n",
    "\n",
    "    \n",
    "    def test_step(self, batch):\n",
    "        loss = self._compute_loss(batch)\n",
    "        self.loss_tracker.update_state(loss)\n",
    "        return {\"loss\": self.loss_tracker.result()}\n",
    "\n",
    "    \n",
    "    def _compute_loss(self, data):\n",
    "        ap_distance, an_distance = self.siamese_network(data)\n",
    "        loss = tf.maximum(ap_distance - an_distance + self.margin, 0.0)\n",
    "        return loss\n",
    "\n",
    "    \n",
    "    @property\n",
    "    def metrics(self):\n",
    "        return [self.loss_tracker]"
   ]
  },
  {
   "cell_type": "markdown",
   "id": "ee99479f",
   "metadata": {},
   "source": [
    "## Build Checkpoint Class"
   ]
  },
  {
   "cell_type": "code",
   "execution_count": 25,
   "id": "3789d16f",
   "metadata": {},
   "outputs": [],
   "source": [
    "class ModelCheckpoint(tf.keras.callbacks.Callback):\n",
    "\n",
    "    def __init__(self, epoch_freq, batch_freq,directory):\n",
    "        super().__init__()\n",
    "        self.epoch_freq = epoch_freq\n",
    "        self.batch_freq = batch_freq\n",
    "        self.directory = directory\n",
    "\n",
    "    def on_epoch_end(self, epoch, logs=None):\n",
    "        if self.epoch_freq > 0 and epoch % self.epoch_freq == 0:\n",
    "            self.model.save_weights(os.path.join(self.directory, 'weights_'+str(epoch+1)))             \n",
    "    \n",
    "    def on_train_batch_end(self, batch, logs=None):\n",
    "        if self.batch_freq > 0 and batch % self.batch_freq == 0 and batch != 0:\n",
    "            print(' - Batch:',batch)\n",
    "            self.model.save_weights(os.path.join(self.directory, 'latest_save'))\n",
    "    \n",
    "    def on_train_end(self, logs=None):\n",
    "         self.model.save_weights(os.path.join(self.directory, 'train_end'))\n",
    "    "
   ]
  },
  {
   "cell_type": "code",
   "execution_count": 26,
   "id": "19df7c00",
   "metadata": {},
   "outputs": [
    {
     "name": "stdout",
     "output_type": "stream",
     "text": [
      "Model: \"model\"\n",
      "__________________________________________________________________________________________________\n",
      " Layer (type)                   Output Shape         Param #     Connected to                     \n",
      "==================================================================================================\n",
      " anchor (InputLayer)            [(None, 128, 128, 3  0           []                               \n",
      "                                )]                                                                \n",
      "                                                                                                  \n",
      " positive (InputLayer)          [(None, 128, 128, 3  0           []                               \n",
      "                                )]                                                                \n",
      "                                                                                                  \n",
      " negative (InputLayer)          [(None, 128, 128, 3  0           []                               \n",
      "                                )]                                                                \n",
      "                                                                                                  \n",
      " embedding_model (Sequential)   (None, 2048)         29262376    ['anchor[0][0]',                 \n",
      "                                                                  'positive[0][0]',               \n",
      "                                                                  'negative[0][0]']               \n",
      "                                                                                                  \n",
      " distance_layer (DistanceLayer)  ((None,),           0           ['embedding_model[0][0]',        \n",
      "                                 (None,))                         'embedding_model[1][0]',        \n",
      "                                                                  'embedding_model[2][0]']        \n",
      "                                                                                                  \n",
      "==================================================================================================\n",
      "Total params: 29,262,376\n",
      "Trainable params: 16,799,160\n",
      "Non-trainable params: 12,463,216\n",
      "__________________________________________________________________________________________________\n"
     ]
    }
   ],
   "source": [
    "siamese_model = SiameseModel(siamese_network)\n",
    "optimizer=keras.optimizers.Adam(0.000001)\n",
    "siamese_model.compile(optimizer=optimizer)\n",
    "siamese_network.summary()\n",
    "\n",
    "epoch_freq=1\n",
    "batch_freq = 200\n",
    "checkpoint_dir = './training_checkpoints'\n",
    "callback = ModelCheckpoint(epoch_freq,batch_freq,checkpoint_dir)"
   ]
  },
  {
   "cell_type": "markdown",
   "id": "73c3cf80",
   "metadata": {},
   "source": [
    "## Load Model"
   ]
  },
  {
   "cell_type": "code",
   "execution_count": 27,
   "id": "e4e895a8",
   "metadata": {},
   "outputs": [
    {
     "data": {
      "text/plain": [
       "<tensorflow.python.checkpoint.checkpoint.CheckpointLoadStatus at 0x2bd560d3d90>"
      ]
     },
     "execution_count": 27,
     "metadata": {},
     "output_type": "execute_result"
    }
   ],
   "source": [
    "siamese_model.load_weights('D:\\\\SimpleNN\\\\model_saves\\\\ch2048\\\\train_end')"
   ]
  },
  {
   "cell_type": "code",
   "execution_count": null,
   "id": "5690e7e6",
   "metadata": {
    "scrolled": true
   },
   "outputs": [
    {
     "name": "stdout",
     "output_type": "stream",
     "text": [
      "Epoch 1/3\n",
      " 18/600 [..............................] - ETA: 21:57 - loss: 0.3280"
     ]
    }
   ],
   "source": [
    "siamese_model.fit(train_data,epochs=3,callbacks=[callback])"
   ]
  },
  {
   "cell_type": "markdown",
   "id": "2fae6537",
   "metadata": {},
   "source": [
    "# PostTraining Stuff"
   ]
  },
  {
   "cell_type": "markdown",
   "id": "b55d3bb3",
   "metadata": {},
   "source": [
    "## Evaluate Model"
   ]
  },
  {
   "cell_type": "code",
   "execution_count": null,
   "id": "3374c33e",
   "metadata": {},
   "outputs": [],
   "source": [
    "CV_DATA_PORTION = .2\n",
    "cv_data = cv_data.take(round(len(cv_data)*CV_DATA_PORTION))\n",
    "loss =siamese_model.evaluate(cv_data)"
   ]
  },
  {
   "cell_type": "code",
   "execution_count": null,
   "id": "73082899",
   "metadata": {},
   "outputs": [],
   "source": [
    "TEST_DATA_PORTION = .1\n",
    "test_data = test_data.take(round(len(test_data)*TEST_DATA_PORTION))\n",
    "precision_counter = Precision()\n",
    "recall_counter = Recall()\n",
    "labels_for_distances = []\n",
    "\n",
    "for test_batch in test_data.as_numpy_iterator(): \n",
    "    test_anc,test_pos,test_neg = test_batch\n",
    "    distances = siamese_model.predict([test_anc,test_pos])\n",
    "    threshold = 1.0\n",
    "    aver_distance =0\n",
    "    for distance in distances:\n",
    "        aver_distance+=distance\n",
    "        aver_distance/=len(distances)\n",
    "    labels_for_distances_in_batch = [1 if distance < threshold else 0 for distance in distances]\n",
    "    labels_for_distances+=labels_for_distances_in_batch"
   ]
  },
  {
   "cell_type": "code",
   "execution_count": 74,
   "id": "bca60085",
   "metadata": {},
   "outputs": [
    {
     "name": "stdout",
     "output_type": "stream",
     "text": [
      "0.71875\n",
      "1.0\n",
      "0.8363636363636364\n"
     ]
    }
   ],
   "source": [
    "labels_for_distances = np.array(labels_for_distances).flatten()\n",
    "true_labels = np.ones_like(labels_for_distances)\n",
    "\n",
    "precision_counter.update_state(labels_for_distances, true_labels)\n",
    "recall_counter.update_state(labels_for_distances, true_labels)\n",
    "\n",
    "precision = precision_counter.result().numpy()\n",
    "recall = recall_counter.result().numpy()\n",
    "f1_score = 2/((1/precision)+(1/recall))\n",
    "\n",
    "print(precision)\n",
    "print(recall)\n",
    "print(f1_score)"
   ]
  },
  {
   "cell_type": "markdown",
   "id": "1a097144",
   "metadata": {},
   "source": [
    "# Test Custom Images"
   ]
  },
  {
   "cell_type": "code",
   "execution_count": 71,
   "id": "93d9d960",
   "metadata": {},
   "outputs": [],
   "source": [
    "employee_folder = 'D:\\\\SimpleNN\\\\Data\\\\part2\\\\employee'\n",
    "employees=['Kate','Kris8an','Shtirlits','Maxim_Katz','Venceslav_Zhyuliuk','Masa','Andrew_NG','Fake_Shuzo']\n",
    "employee_name=employees[-2]"
   ]
  },
  {
   "cell_type": "code",
   "execution_count": 72,
   "id": "bf8066ad",
   "metadata": {},
   "outputs": [],
   "source": [
    "def get_employee_paths(employee_folder,employee_name):\n",
    "    path_to_employee = os.path.join(employee_folder,employee_name)\n",
    "    \n",
    "    files_in_folder =[]\n",
    "    for file_name in os.listdir(path_to_employee):\n",
    "        files_in_folder.append(os.path.join(path_to_employee,file_name))\n",
    "    return files_in_folder"
   ]
  },
  {
   "cell_type": "code",
   "execution_count": 73,
   "id": "cc952846",
   "metadata": {},
   "outputs": [],
   "source": [
    "files_in_folder = get_employee_paths(employee_folder,employee_name)"
   ]
  },
  {
   "cell_type": "code",
   "execution_count": 74,
   "id": "30eed2c9",
   "metadata": {},
   "outputs": [],
   "source": [
    "def get_prepared_emp_data(files_in_folder,batch_size):\n",
    "    pos_images =np.array(files_in_folder[1:])\n",
    "    anc_images = np.repeat(np.array([files_in_folder[0]]),len(pos_images))\n",
    "    \n",
    "    anc_images = tf.data.Dataset.from_tensor_slices(anc_images)\n",
    "    pos_images = tf.data.Dataset.from_tensor_slices(pos_images)\n",
    "    emp_batch = tf.data.Dataset.zip((anc_images,pos_images))\n",
    "    \n",
    "    emp_batch = emp_batch.map(preprocess_emp)\n",
    "    emp_batch = emp_batch.batch(batch_size)\n",
    "    \n",
    "    anc_images,pos_images = emp_batch.as_numpy_iterator().next()\n",
    "    return anc_images, pos_images"
   ]
  },
  {
   "cell_type": "code",
   "execution_count": 75,
   "id": "7874b6f5",
   "metadata": {},
   "outputs": [],
   "source": [
    "anc_images,pos_images = get_prepared_emp_data(files_in_folder,BATCH_SIZE)"
   ]
  },
  {
   "cell_type": "code",
   "execution_count": 76,
   "id": "5036b9d7",
   "metadata": {},
   "outputs": [
    {
     "name": "stdout",
     "output_type": "stream",
     "text": [
      "1/1 [==============================] - 0s 400ms/step\n"
     ]
    }
   ],
   "source": [
    "distances = siamese_model.predict([anc_images,pos_images])"
   ]
  },
  {
   "cell_type": "code",
   "execution_count": 77,
   "id": "1dbb6ba5",
   "metadata": {},
   "outputs": [
    {
     "name": "stdout",
     "output_type": "stream",
     "text": [
      "[1, 1, 1, 1, 1, 0]\n",
      "It's  Andrew_NG\n"
     ]
    }
   ],
   "source": [
    "threshold = 1.0\n",
    "labels_for_distances = [1 if distance < threshold else 0 for distance in distances]\n",
    "print(labels_for_distances)\n",
    "if np.mean(labels_for_distances)>=0.8:\n",
    "    print(\"It's \",employee_name)\n",
    "else: \n",
    "    print(\"It's not \",employee_name)"
   ]
  }
 ],
 "metadata": {
  "kernelspec": {
   "display_name": "SimpleNN_env",
   "language": "python",
   "name": "simplenn_env"
  },
  "language_info": {
   "codemirror_mode": {
    "name": "ipython",
    "version": 3
   },
   "file_extension": ".py",
   "mimetype": "text/x-python",
   "name": "python",
   "nbconvert_exporter": "python",
   "pygments_lexer": "ipython3",
   "version": "3.9.13"
  }
 },
 "nbformat": 4,
 "nbformat_minor": 5
}
